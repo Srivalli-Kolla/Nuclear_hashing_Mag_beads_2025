{
 "cells": [
  {
   "cell_type": "markdown",
   "metadata": {},
   "source": [
    "# Notebook for Clustering and Annotating using `scvi` - noninf only\n",
    "\n",
    "**Created by :** Srivalli Kolla\n",
    "\n",
    "**Created on :** 27 May, 2025\n",
    "\n",
    "**Modified on :** 27 May, 2025\n",
    "\n",
    "**University of Würzburg**"
   ]
  },
  {
   "cell_type": "markdown",
   "metadata": {},
   "source": [
    "Env : scanpy (Python 3.12.2)"
   ]
  },
  {
   "cell_type": "markdown",
   "metadata": {},
   "source": [
    "# Importing Packages"
   ]
  },
  {
   "cell_type": "code",
   "execution_count": 1,
   "metadata": {},
   "outputs": [],
   "source": [
    "import numpy as np\n",
    "import pandas as pd\n",
    "import scanpy as sc\n",
    "import seaborn as sb\n",
    "import datetime\n",
    "import os\n",
    "import torch\n",
    "import scvi\n",
    "import plotnine as p\n",
    "import matplotlib.pyplot as plt\n",
    "from matplotlib import colors\n",
    "from matplotlib import rcParams"
   ]
  },
  {
   "cell_type": "code",
   "execution_count": 2,
   "metadata": {},
   "outputs": [
    {
     "name": "stderr",
     "output_type": "stream",
     "text": [
      "/tmp/ipykernel_1327052/4146390281.py:2: FutureWarning: Use `print_header` instead\n"
     ]
    }
   ],
   "source": [
    "sc.settings.verbosity = 3\n",
    "sc.logging.print_versions()\n",
    "\n",
    "plt.rcParams['figure.dpi'] = 300  \n",
    "plt.rcParams['savefig.dpi'] = 300\n",
    "\n",
    "timestamp = datetime.datetime.now().strftime(\"%d_%m_%y\")"
   ]
  },
  {
   "cell_type": "markdown",
   "metadata": {},
   "source": [
    "# Data import"
   ]
  },
  {
   "cell_type": "code",
   "execution_count": 3,
   "metadata": {},
   "outputs": [
    {
     "name": "stdout",
     "output_type": "stream",
     "text": [
      "/home/gruengroup/srivalli/Github/Nuclear_hashing_Mag_beads_2025\n"
     ]
    }
   ],
   "source": [
    "cd './Github/Nuclear_hashing_Mag_beads_2025/'"
   ]
  },
  {
   "cell_type": "code",
   "execution_count": 4,
   "metadata": {},
   "outputs": [
    {
     "data": {
      "text/plain": [
       "AnnData object with n_obs × n_vars = 3914 × 32285\n",
       "    obs: 'orig.ident', 'nCount_RNA', 'nFeature_RNA', 'nCount_HTO', 'nFeature_HTO', 'HTO_maxID', 'HTO_secondID', 'HTO_margin', 'HTO_classification', 'HTO_classification.global', 'hash.ID', 'ident', 'Sample', 'Sample-ID', 'Mouse-ID', 'Sex', 'Group', 'Nuclei Purification Method after Hashing', 'assigned_hashtag', 'n_genes_by_counts', 'total_counts', 'total_counts_mt', 'pct_counts_mt', 'total_counts_ribo', 'pct_counts_ribo', 'percent_chrY', 'XIST-counts', 'XIST-percentage', 'gender_check_cov', 'doublet_scores', 'predicted_doublets'\n",
       "    var: 'gene_ids', 'feature_types', 'genome', 'mt', 'ribo', 'n_cells_by_counts', 'mean_counts', 'pct_dropout_by_counts', 'total_counts'\n",
       "    uns: 'assigned_hashtag_colors', 'log1p'\n",
       "    layers: 'cpm_normalization', 'raw_counts'"
      ]
     },
     "execution_count": 4,
     "metadata": {},
     "output_type": "execute_result"
    }
   ],
   "source": [
    "adata = sc.read_h5ad('./data/demultiplexed_cellbender_singlets_scrublet_doublet_removal_magnetic_beads_22_05_25.h5ad')\n",
    "adata"
   ]
  },
  {
   "cell_type": "code",
   "execution_count": 5,
   "metadata": {},
   "outputs": [
    {
     "data": {
      "text/plain": [
       "AnnData object with n_obs × n_vars = 1474 × 32285\n",
       "    obs: 'orig.ident', 'nCount_RNA', 'nFeature_RNA', 'nCount_HTO', 'nFeature_HTO', 'HTO_maxID', 'HTO_secondID', 'HTO_margin', 'HTO_classification', 'HTO_classification.global', 'hash.ID', 'ident', 'Sample', 'Sample-ID', 'Mouse-ID', 'Sex', 'Group', 'Nuclei Purification Method after Hashing', 'assigned_hashtag', 'n_genes_by_counts', 'total_counts', 'total_counts_mt', 'pct_counts_mt', 'total_counts_ribo', 'pct_counts_ribo', 'percent_chrY', 'XIST-counts', 'XIST-percentage', 'gender_check_cov', 'doublet_scores', 'predicted_doublets'\n",
       "    var: 'gene_ids', 'feature_types', 'genome', 'mt', 'ribo', 'n_cells_by_counts', 'mean_counts', 'pct_dropout_by_counts', 'total_counts'\n",
       "    uns: 'assigned_hashtag_colors', 'log1p'\n",
       "    layers: 'cpm_normalization', 'raw_counts'"
      ]
     },
     "execution_count": 5,
     "metadata": {},
     "output_type": "execute_result"
    }
   ],
   "source": [
    "adata = adata[adata.obs['Group']=='noninf'].copy()\n",
    "adata"
   ]
  },
  {
   "cell_type": "code",
   "execution_count": 6,
   "metadata": {},
   "outputs": [
    {
     "data": {
      "text/html": [
       "<div>\n",
       "<style scoped>\n",
       "    .dataframe tbody tr th:only-of-type {\n",
       "        vertical-align: middle;\n",
       "    }\n",
       "\n",
       "    .dataframe tbody tr th {\n",
       "        vertical-align: top;\n",
       "    }\n",
       "\n",
       "    .dataframe thead th {\n",
       "        text-align: right;\n",
       "    }\n",
       "</style>\n",
       "<table border=\"1\" class=\"dataframe\">\n",
       "  <thead>\n",
       "    <tr style=\"text-align: right;\">\n",
       "      <th></th>\n",
       "      <th>orig.ident</th>\n",
       "      <th>nCount_RNA</th>\n",
       "      <th>nFeature_RNA</th>\n",
       "      <th>nCount_HTO</th>\n",
       "      <th>nFeature_HTO</th>\n",
       "      <th>HTO_maxID</th>\n",
       "      <th>HTO_secondID</th>\n",
       "      <th>HTO_margin</th>\n",
       "      <th>HTO_classification</th>\n",
       "      <th>HTO_classification.global</th>\n",
       "      <th>...</th>\n",
       "      <th>total_counts_mt</th>\n",
       "      <th>pct_counts_mt</th>\n",
       "      <th>total_counts_ribo</th>\n",
       "      <th>pct_counts_ribo</th>\n",
       "      <th>percent_chrY</th>\n",
       "      <th>XIST-counts</th>\n",
       "      <th>XIST-percentage</th>\n",
       "      <th>gender_check_cov</th>\n",
       "      <th>doublet_scores</th>\n",
       "      <th>predicted_doublets</th>\n",
       "    </tr>\n",
       "  </thead>\n",
       "  <tbody>\n",
       "    <tr>\n",
       "      <th>TCTAGCTTCCTCTAGT-1</th>\n",
       "      <td>SeuratProject</td>\n",
       "      <td>98198.0</td>\n",
       "      <td>10855</td>\n",
       "      <td>2320.0</td>\n",
       "      <td>8</td>\n",
       "      <td>TotalSeqB7</td>\n",
       "      <td>TotalSeqB4</td>\n",
       "      <td>1.028045</td>\n",
       "      <td>TotalSeqB7</td>\n",
       "      <td>Singlet</td>\n",
       "      <td>...</td>\n",
       "      <td>3083</td>\n",
       "      <td>3.490637</td>\n",
       "      <td>611</td>\n",
       "      <td>0.691787</td>\n",
       "      <td>0.007926</td>\n",
       "      <td>209</td>\n",
       "      <td>0.236634</td>\n",
       "      <td>Female</td>\n",
       "      <td>0.079872</td>\n",
       "      <td>0</td>\n",
       "    </tr>\n",
       "    <tr>\n",
       "      <th>CAATCCTTCCGGTTAA-1</th>\n",
       "      <td>SeuratProject</td>\n",
       "      <td>90072.0</td>\n",
       "      <td>10007</td>\n",
       "      <td>1629.0</td>\n",
       "      <td>8</td>\n",
       "      <td>TotalSeqB7</td>\n",
       "      <td>TotalSeqB1</td>\n",
       "      <td>1.096554</td>\n",
       "      <td>TotalSeqB7</td>\n",
       "      <td>Singlet</td>\n",
       "      <td>...</td>\n",
       "      <td>2051</td>\n",
       "      <td>2.539403</td>\n",
       "      <td>370</td>\n",
       "      <td>0.458108</td>\n",
       "      <td>0.011143</td>\n",
       "      <td>77</td>\n",
       "      <td>0.095336</td>\n",
       "      <td>Female</td>\n",
       "      <td>0.164948</td>\n",
       "      <td>0</td>\n",
       "    </tr>\n",
       "    <tr>\n",
       "      <th>TAGGTGGAGGTGCATC-1</th>\n",
       "      <td>SeuratProject</td>\n",
       "      <td>88193.0</td>\n",
       "      <td>10866</td>\n",
       "      <td>2921.0</td>\n",
       "      <td>8</td>\n",
       "      <td>TotalSeqB5</td>\n",
       "      <td>TotalSeqB4</td>\n",
       "      <td>1.678000</td>\n",
       "      <td>TotalSeqB5</td>\n",
       "      <td>Singlet</td>\n",
       "      <td>...</td>\n",
       "      <td>831</td>\n",
       "      <td>1.056083</td>\n",
       "      <td>266</td>\n",
       "      <td>0.338048</td>\n",
       "      <td>0.000000</td>\n",
       "      <td>214</td>\n",
       "      <td>0.271964</td>\n",
       "      <td>Female</td>\n",
       "      <td>0.136531</td>\n",
       "      <td>0</td>\n",
       "    </tr>\n",
       "    <tr>\n",
       "      <th>TCTCTATGTTGACCCA-1</th>\n",
       "      <td>SeuratProject</td>\n",
       "      <td>72892.0</td>\n",
       "      <td>9886</td>\n",
       "      <td>2095.0</td>\n",
       "      <td>8</td>\n",
       "      <td>TotalSeqB7</td>\n",
       "      <td>TotalSeqB4</td>\n",
       "      <td>0.924476</td>\n",
       "      <td>TotalSeqB7</td>\n",
       "      <td>Singlet</td>\n",
       "      <td>...</td>\n",
       "      <td>1504</td>\n",
       "      <td>2.386733</td>\n",
       "      <td>210</td>\n",
       "      <td>0.333254</td>\n",
       "      <td>0.006348</td>\n",
       "      <td>139</td>\n",
       "      <td>0.220582</td>\n",
       "      <td>Female</td>\n",
       "      <td>0.087838</td>\n",
       "      <td>0</td>\n",
       "    </tr>\n",
       "    <tr>\n",
       "      <th>CATTTGAGTCATCGGC-1</th>\n",
       "      <td>SeuratProject</td>\n",
       "      <td>71269.0</td>\n",
       "      <td>9715</td>\n",
       "      <td>2093.0</td>\n",
       "      <td>8</td>\n",
       "      <td>TotalSeqB7</td>\n",
       "      <td>TotalSeqB6</td>\n",
       "      <td>1.253093</td>\n",
       "      <td>TotalSeqB7</td>\n",
       "      <td>Singlet</td>\n",
       "      <td>...</td>\n",
       "      <td>2499</td>\n",
       "      <td>4.062622</td>\n",
       "      <td>311</td>\n",
       "      <td>0.505592</td>\n",
       "      <td>0.000000</td>\n",
       "      <td>135</td>\n",
       "      <td>0.219469</td>\n",
       "      <td>Female</td>\n",
       "      <td>0.164948</td>\n",
       "      <td>0</td>\n",
       "    </tr>\n",
       "    <tr>\n",
       "      <th>...</th>\n",
       "      <td>...</td>\n",
       "      <td>...</td>\n",
       "      <td>...</td>\n",
       "      <td>...</td>\n",
       "      <td>...</td>\n",
       "      <td>...</td>\n",
       "      <td>...</td>\n",
       "      <td>...</td>\n",
       "      <td>...</td>\n",
       "      <td>...</td>\n",
       "      <td>...</td>\n",
       "      <td>...</td>\n",
       "      <td>...</td>\n",
       "      <td>...</td>\n",
       "      <td>...</td>\n",
       "      <td>...</td>\n",
       "      <td>...</td>\n",
       "      <td>...</td>\n",
       "      <td>...</td>\n",
       "      <td>...</td>\n",
       "      <td>...</td>\n",
       "    </tr>\n",
       "    <tr>\n",
       "      <th>TCGTCACCAACATTAG-1</th>\n",
       "      <td>SeuratProject</td>\n",
       "      <td>14628.0</td>\n",
       "      <td>4102</td>\n",
       "      <td>1548.0</td>\n",
       "      <td>8</td>\n",
       "      <td>TotalSeqB7</td>\n",
       "      <td>TotalSeqB5</td>\n",
       "      <td>0.434041</td>\n",
       "      <td>TotalSeqB7</td>\n",
       "      <td>Singlet</td>\n",
       "      <td>...</td>\n",
       "      <td>0</td>\n",
       "      <td>0.000000</td>\n",
       "      <td>5</td>\n",
       "      <td>0.104603</td>\n",
       "      <td>0.000000</td>\n",
       "      <td>25</td>\n",
       "      <td>0.523013</td>\n",
       "      <td>Female</td>\n",
       "      <td>0.079872</td>\n",
       "      <td>0</td>\n",
       "    </tr>\n",
       "    <tr>\n",
       "      <th>GGAAATTGTCCATACG-1</th>\n",
       "      <td>SeuratProject</td>\n",
       "      <td>13967.0</td>\n",
       "      <td>3790</td>\n",
       "      <td>2208.0</td>\n",
       "      <td>8</td>\n",
       "      <td>TotalSeqB5</td>\n",
       "      <td>TotalSeqB3</td>\n",
       "      <td>0.281725</td>\n",
       "      <td>TotalSeqB5</td>\n",
       "      <td>Singlet</td>\n",
       "      <td>...</td>\n",
       "      <td>0</td>\n",
       "      <td>0.000000</td>\n",
       "      <td>4</td>\n",
       "      <td>0.096061</td>\n",
       "      <td>0.000000</td>\n",
       "      <td>24</td>\n",
       "      <td>0.576369</td>\n",
       "      <td>Female</td>\n",
       "      <td>0.038674</td>\n",
       "      <td>0</td>\n",
       "    </tr>\n",
       "    <tr>\n",
       "      <th>GTAGTAAAGGATGCCT-1</th>\n",
       "      <td>SeuratProject</td>\n",
       "      <td>14096.0</td>\n",
       "      <td>4069</td>\n",
       "      <td>2076.0</td>\n",
       "      <td>8</td>\n",
       "      <td>TotalSeqB5</td>\n",
       "      <td>TotalSeqB6</td>\n",
       "      <td>0.450568</td>\n",
       "      <td>TotalSeqB5</td>\n",
       "      <td>Singlet</td>\n",
       "      <td>...</td>\n",
       "      <td>0</td>\n",
       "      <td>0.000000</td>\n",
       "      <td>6</td>\n",
       "      <td>0.138793</td>\n",
       "      <td>0.000000</td>\n",
       "      <td>10</td>\n",
       "      <td>0.231321</td>\n",
       "      <td>Female</td>\n",
       "      <td>0.052632</td>\n",
       "      <td>0</td>\n",
       "    </tr>\n",
       "    <tr>\n",
       "      <th>ACCACCTCAATTAACG-1</th>\n",
       "      <td>SeuratProject</td>\n",
       "      <td>14117.0</td>\n",
       "      <td>3773</td>\n",
       "      <td>2051.0</td>\n",
       "      <td>8</td>\n",
       "      <td>TotalSeqB5</td>\n",
       "      <td>TotalSeqB3</td>\n",
       "      <td>0.402708</td>\n",
       "      <td>TotalSeqB5</td>\n",
       "      <td>Singlet</td>\n",
       "      <td>...</td>\n",
       "      <td>0</td>\n",
       "      <td>0.000000</td>\n",
       "      <td>1</td>\n",
       "      <td>0.020458</td>\n",
       "      <td>0.000000</td>\n",
       "      <td>5</td>\n",
       "      <td>0.102291</td>\n",
       "      <td>Female</td>\n",
       "      <td>0.045187</td>\n",
       "      <td>0</td>\n",
       "    </tr>\n",
       "    <tr>\n",
       "      <th>TCACGTAAGCAGGTCT-1</th>\n",
       "      <td>SeuratProject</td>\n",
       "      <td>14459.0</td>\n",
       "      <td>4680</td>\n",
       "      <td>1701.0</td>\n",
       "      <td>8</td>\n",
       "      <td>TotalSeqB7</td>\n",
       "      <td>TotalSeqB6</td>\n",
       "      <td>0.462343</td>\n",
       "      <td>TotalSeqB7</td>\n",
       "      <td>Singlet</td>\n",
       "      <td>...</td>\n",
       "      <td>108</td>\n",
       "      <td>1.902748</td>\n",
       "      <td>65</td>\n",
       "      <td>1.145173</td>\n",
       "      <td>0.000000</td>\n",
       "      <td>11</td>\n",
       "      <td>0.193798</td>\n",
       "      <td>Female</td>\n",
       "      <td>0.019964</td>\n",
       "      <td>0</td>\n",
       "    </tr>\n",
       "  </tbody>\n",
       "</table>\n",
       "<p>1474 rows × 31 columns</p>\n",
       "</div>"
      ],
      "text/plain": [
       "                       orig.ident  nCount_RNA  nFeature_RNA  nCount_HTO  \\\n",
       "TCTAGCTTCCTCTAGT-1  SeuratProject     98198.0         10855      2320.0   \n",
       "CAATCCTTCCGGTTAA-1  SeuratProject     90072.0         10007      1629.0   \n",
       "TAGGTGGAGGTGCATC-1  SeuratProject     88193.0         10866      2921.0   \n",
       "TCTCTATGTTGACCCA-1  SeuratProject     72892.0          9886      2095.0   \n",
       "CATTTGAGTCATCGGC-1  SeuratProject     71269.0          9715      2093.0   \n",
       "...                           ...         ...           ...         ...   \n",
       "TCGTCACCAACATTAG-1  SeuratProject     14628.0          4102      1548.0   \n",
       "GGAAATTGTCCATACG-1  SeuratProject     13967.0          3790      2208.0   \n",
       "GTAGTAAAGGATGCCT-1  SeuratProject     14096.0          4069      2076.0   \n",
       "ACCACCTCAATTAACG-1  SeuratProject     14117.0          3773      2051.0   \n",
       "TCACGTAAGCAGGTCT-1  SeuratProject     14459.0          4680      1701.0   \n",
       "\n",
       "                    nFeature_HTO   HTO_maxID HTO_secondID  HTO_margin  \\\n",
       "TCTAGCTTCCTCTAGT-1             8  TotalSeqB7   TotalSeqB4    1.028045   \n",
       "CAATCCTTCCGGTTAA-1             8  TotalSeqB7   TotalSeqB1    1.096554   \n",
       "TAGGTGGAGGTGCATC-1             8  TotalSeqB5   TotalSeqB4    1.678000   \n",
       "TCTCTATGTTGACCCA-1             8  TotalSeqB7   TotalSeqB4    0.924476   \n",
       "CATTTGAGTCATCGGC-1             8  TotalSeqB7   TotalSeqB6    1.253093   \n",
       "...                          ...         ...          ...         ...   \n",
       "TCGTCACCAACATTAG-1             8  TotalSeqB7   TotalSeqB5    0.434041   \n",
       "GGAAATTGTCCATACG-1             8  TotalSeqB5   TotalSeqB3    0.281725   \n",
       "GTAGTAAAGGATGCCT-1             8  TotalSeqB5   TotalSeqB6    0.450568   \n",
       "ACCACCTCAATTAACG-1             8  TotalSeqB5   TotalSeqB3    0.402708   \n",
       "TCACGTAAGCAGGTCT-1             8  TotalSeqB7   TotalSeqB6    0.462343   \n",
       "\n",
       "                   HTO_classification HTO_classification.global  ...  \\\n",
       "TCTAGCTTCCTCTAGT-1         TotalSeqB7                   Singlet  ...   \n",
       "CAATCCTTCCGGTTAA-1         TotalSeqB7                   Singlet  ...   \n",
       "TAGGTGGAGGTGCATC-1         TotalSeqB5                   Singlet  ...   \n",
       "TCTCTATGTTGACCCA-1         TotalSeqB7                   Singlet  ...   \n",
       "CATTTGAGTCATCGGC-1         TotalSeqB7                   Singlet  ...   \n",
       "...                               ...                       ...  ...   \n",
       "TCGTCACCAACATTAG-1         TotalSeqB7                   Singlet  ...   \n",
       "GGAAATTGTCCATACG-1         TotalSeqB5                   Singlet  ...   \n",
       "GTAGTAAAGGATGCCT-1         TotalSeqB5                   Singlet  ...   \n",
       "ACCACCTCAATTAACG-1         TotalSeqB5                   Singlet  ...   \n",
       "TCACGTAAGCAGGTCT-1         TotalSeqB7                   Singlet  ...   \n",
       "\n",
       "                   total_counts_mt pct_counts_mt total_counts_ribo  \\\n",
       "TCTAGCTTCCTCTAGT-1            3083      3.490637               611   \n",
       "CAATCCTTCCGGTTAA-1            2051      2.539403               370   \n",
       "TAGGTGGAGGTGCATC-1             831      1.056083               266   \n",
       "TCTCTATGTTGACCCA-1            1504      2.386733               210   \n",
       "CATTTGAGTCATCGGC-1            2499      4.062622               311   \n",
       "...                            ...           ...               ...   \n",
       "TCGTCACCAACATTAG-1               0      0.000000                 5   \n",
       "GGAAATTGTCCATACG-1               0      0.000000                 4   \n",
       "GTAGTAAAGGATGCCT-1               0      0.000000                 6   \n",
       "ACCACCTCAATTAACG-1               0      0.000000                 1   \n",
       "TCACGTAAGCAGGTCT-1             108      1.902748                65   \n",
       "\n",
       "                    pct_counts_ribo percent_chrY XIST-counts XIST-percentage  \\\n",
       "TCTAGCTTCCTCTAGT-1         0.691787     0.007926         209        0.236634   \n",
       "CAATCCTTCCGGTTAA-1         0.458108     0.011143          77        0.095336   \n",
       "TAGGTGGAGGTGCATC-1         0.338048     0.000000         214        0.271964   \n",
       "TCTCTATGTTGACCCA-1         0.333254     0.006348         139        0.220582   \n",
       "CATTTGAGTCATCGGC-1         0.505592     0.000000         135        0.219469   \n",
       "...                             ...          ...         ...             ...   \n",
       "TCGTCACCAACATTAG-1         0.104603     0.000000          25        0.523013   \n",
       "GGAAATTGTCCATACG-1         0.096061     0.000000          24        0.576369   \n",
       "GTAGTAAAGGATGCCT-1         0.138793     0.000000          10        0.231321   \n",
       "ACCACCTCAATTAACG-1         0.020458     0.000000           5        0.102291   \n",
       "TCACGTAAGCAGGTCT-1         1.145173     0.000000          11        0.193798   \n",
       "\n",
       "                   gender_check_cov doublet_scores  predicted_doublets  \n",
       "TCTAGCTTCCTCTAGT-1           Female       0.079872                   0  \n",
       "CAATCCTTCCGGTTAA-1           Female       0.164948                   0  \n",
       "TAGGTGGAGGTGCATC-1           Female       0.136531                   0  \n",
       "TCTCTATGTTGACCCA-1           Female       0.087838                   0  \n",
       "CATTTGAGTCATCGGC-1           Female       0.164948                   0  \n",
       "...                             ...            ...                 ...  \n",
       "TCGTCACCAACATTAG-1           Female       0.079872                   0  \n",
       "GGAAATTGTCCATACG-1           Female       0.038674                   0  \n",
       "GTAGTAAAGGATGCCT-1           Female       0.052632                   0  \n",
       "ACCACCTCAATTAACG-1           Female       0.045187                   0  \n",
       "TCACGTAAGCAGGTCT-1           Female       0.019964                   0  \n",
       "\n",
       "[1474 rows x 31 columns]"
      ]
     },
     "execution_count": 6,
     "metadata": {},
     "output_type": "execute_result"
    }
   ],
   "source": [
    "adata.obs"
   ]
  },
  {
   "cell_type": "markdown",
   "metadata": {},
   "source": [
    "#### Check if data is raw or Normalized"
   ]
  },
  {
   "cell_type": "code",
   "execution_count": 7,
   "metadata": {},
   "outputs": [],
   "source": [
    "def X_is_raw(adata):\n",
    "    return np.array_equal(adata.X.sum(axis=0).astype(int), adata.X.sum(axis=0))"
   ]
  },
  {
   "cell_type": "code",
   "execution_count": 8,
   "metadata": {},
   "outputs": [
    {
     "name": "stdout",
     "output_type": "stream",
     "text": [
      "False\n"
     ]
    }
   ],
   "source": [
    "print(X_is_raw(adata))"
   ]
  },
  {
   "cell_type": "code",
   "execution_count": 9,
   "metadata": {},
   "outputs": [
    {
     "name": "stdout",
     "output_type": "stream",
     "text": [
      "True\n"
     ]
    }
   ],
   "source": [
    "adata.X= adata.layers['raw_counts']\n",
    "print(X_is_raw(adata))"
   ]
  },
  {
   "cell_type": "markdown",
   "metadata": {},
   "source": [
    "#### HVG "
   ]
  },
  {
   "cell_type": "code",
   "execution_count": 10,
   "metadata": {},
   "outputs": [
    {
     "name": "stdout",
     "output_type": "stream",
     "text": [
      "extracting highly variable genes\n",
      "--> added\n",
      "    'highly_variable', boolean vector (adata.var)\n",
      "    'highly_variable_rank', float vector (adata.var)\n",
      "    'means', float vector (adata.var)\n",
      "    'variances', float vector (adata.var)\n",
      "    'variances_norm', float vector (adata.var)\n"
     ]
    },
    {
     "data": {
      "text/plain": [
       "AnnData object with n_obs × n_vars = 1474 × 8000\n",
       "    obs: 'orig.ident', 'nCount_RNA', 'nFeature_RNA', 'nCount_HTO', 'nFeature_HTO', 'HTO_maxID', 'HTO_secondID', 'HTO_margin', 'HTO_classification', 'HTO_classification.global', 'hash.ID', 'ident', 'Sample', 'Sample-ID', 'Mouse-ID', 'Sex', 'Group', 'Nuclei Purification Method after Hashing', 'assigned_hashtag', 'n_genes_by_counts', 'total_counts', 'total_counts_mt', 'pct_counts_mt', 'total_counts_ribo', 'pct_counts_ribo', 'percent_chrY', 'XIST-counts', 'XIST-percentage', 'gender_check_cov', 'doublet_scores', 'predicted_doublets'\n",
       "    var: 'gene_ids', 'feature_types', 'genome', 'mt', 'ribo', 'n_cells_by_counts', 'mean_counts', 'pct_dropout_by_counts', 'total_counts', 'highly_variable', 'highly_variable_rank', 'means', 'variances', 'variances_norm', 'highly_variable_nbatches'\n",
       "    uns: 'assigned_hashtag_colors', 'log1p', 'hvg'\n",
       "    layers: 'cpm_normalization', 'raw_counts'"
      ]
     },
     "execution_count": 10,
     "metadata": {},
     "output_type": "execute_result"
    }
   ],
   "source": [
    "sc.pp.highly_variable_genes(\n",
    "    adata,\n",
    "    flavor = \"seurat_v3\",\n",
    "    n_top_genes = 8000,\n",
    "    layer = \"raw_counts\",\n",
    "    batch_key = 'assigned_hashtag',\n",
    "    subset = True\n",
    ")\n",
    "adata"
   ]
  },
  {
   "cell_type": "code",
   "execution_count": 11,
   "metadata": {},
   "outputs": [
    {
     "name": "stdout",
     "output_type": "stream",
     "text": [
      "False\n"
     ]
    }
   ],
   "source": [
    "adata.X= adata.layers['cpm_normalization']\n",
    "print(X_is_raw(adata))"
   ]
  },
  {
   "cell_type": "markdown",
   "metadata": {},
   "source": [
    "# SCVI"
   ]
  },
  {
   "cell_type": "markdown",
   "metadata": {},
   "source": [
    "## Data preparation"
   ]
  },
  {
   "cell_type": "code",
   "execution_count": 12,
   "metadata": {},
   "outputs": [
    {
     "data": {
      "text/plain": [
       "AnnData object with n_obs × n_vars = 1474 × 8000\n",
       "    obs: 'orig.ident', 'nCount_RNA', 'nFeature_RNA', 'nCount_HTO', 'nFeature_HTO', 'HTO_maxID', 'HTO_secondID', 'HTO_margin', 'HTO_classification', 'HTO_classification.global', 'hash.ID', 'ident', 'Sample', 'Sample-ID', 'Mouse-ID', 'Sex', 'Group', 'Nuclei Purification Method after Hashing', 'assigned_hashtag', 'n_genes_by_counts', 'total_counts', 'total_counts_mt', 'pct_counts_mt', 'total_counts_ribo', 'pct_counts_ribo', 'percent_chrY', 'XIST-counts', 'XIST-percentage', 'gender_check_cov', 'doublet_scores', 'predicted_doublets', '_scvi_batch', '_scvi_labels'\n",
       "    var: 'gene_ids', 'feature_types', 'genome', 'mt', 'ribo', 'n_cells_by_counts', 'mean_counts', 'pct_dropout_by_counts', 'total_counts', 'highly_variable', 'highly_variable_rank', 'means', 'variances', 'variances_norm', 'highly_variable_nbatches'\n",
       "    uns: 'assigned_hashtag_colors', 'log1p', 'hvg', '_scvi_uuid', '_scvi_manager_uuid'\n",
       "    layers: 'cpm_normalization', 'raw_counts'"
      ]
     },
     "execution_count": 12,
     "metadata": {},
     "output_type": "execute_result"
    }
   ],
   "source": [
    "scvi.model.SCVI.setup_anndata(adata, layer=\"raw_counts\", batch_key='assigned_hashtag')\n",
    "adata"
   ]
  },
  {
   "cell_type": "markdown",
   "metadata": {},
   "source": [
    "## Building the model"
   ]
  },
  {
   "cell_type": "code",
   "execution_count": 13,
   "metadata": {},
   "outputs": [],
   "source": [
    "model_scvi = scvi.model.SCVI.setup_anndata(adata, \n",
    "                              layer = 'raw_counts',\n",
    "                              categorical_covariate_keys = ['assigned_hashtag'])\n",
    "model_scvi"
   ]
  },
  {
   "cell_type": "code",
   "execution_count": 14,
   "metadata": {},
   "outputs": [
    {
     "data": {
      "text/html": [
       "<pre style=\"white-space:pre;overflow-x:auto;line-height:normal;font-family:Menlo,'DejaVu Sans Mono',consolas,'Courier New',monospace\">SCVI model with the following parameters: \n",
       "n_hidden: <span style=\"color: #008080; text-decoration-color: #008080; font-weight: bold\">128</span>, n_latent: <span style=\"color: #008080; text-decoration-color: #008080; font-weight: bold\">10</span>, n_layers: <span style=\"color: #008080; text-decoration-color: #008080; font-weight: bold\">1</span>, dropout_rate: <span style=\"color: #008080; text-decoration-color: #008080; font-weight: bold\">0.1</span>, dispersion: gene-batch, gene_likelihood: nb, \n",
       "latent_distribution: normal.\n",
       "Training status: Not Trained\n",
       "Model's adata is minified?: <span style=\"color: #ff0000; text-decoration-color: #ff0000; font-style: italic\">False</span>\n",
       "</pre>\n"
      ],
      "text/plain": [
       "SCVI model with the following parameters: \n",
       "n_hidden: \u001b[1;36m128\u001b[0m, n_latent: \u001b[1;36m10\u001b[0m, n_layers: \u001b[1;36m1\u001b[0m, dropout_rate: \u001b[1;36m0.1\u001b[0m, dispersion: gene-batch, gene_likelihood: nb, \n",
       "latent_distribution: normal.\n",
       "Training status: Not Trained\n",
       "Model's adata is minified?: \u001b[3;91mFalse\u001b[0m\n"
      ]
     },
     "metadata": {},
     "output_type": "display_data"
    },
    {
     "data": {
      "text/plain": []
     },
     "execution_count": 14,
     "metadata": {},
     "output_type": "execute_result"
    }
   ],
   "source": [
    "model_scvi = scvi.model.SCVI(adata, \n",
    "                             dispersion = 'gene-batch', \n",
    "                             gene_likelihood = 'nb')\n",
    "model_scvi"
   ]
  },
  {
   "cell_type": "code",
   "execution_count": 15,
   "metadata": {},
   "outputs": [
    {
     "data": {
      "text/html": [
       "<pre style=\"white-space:pre;overflow-x:auto;line-height:normal;font-family:Menlo,'DejaVu Sans Mono',consolas,'Courier New',monospace\">Anndata setup with scvi-tools version <span style=\"color: #008080; text-decoration-color: #008080; font-weight: bold\">1.3</span>.<span style=\"color: #008080; text-decoration-color: #008080; font-weight: bold\">1.</span>post1.\n",
       "</pre>\n"
      ],
      "text/plain": [
       "Anndata setup with scvi-tools version \u001b[1;36m1.3\u001b[0m.\u001b[1;36m1.\u001b[0mpost1.\n"
      ]
     },
     "metadata": {},
     "output_type": "display_data"
    },
    {
     "data": {
      "text/html": [
       "<pre style=\"white-space:pre;overflow-x:auto;line-height:normal;font-family:Menlo,'DejaVu Sans Mono',consolas,'Courier New',monospace\">\n",
       "</pre>\n"
      ],
      "text/plain": [
       "\n"
      ]
     },
     "metadata": {},
     "output_type": "display_data"
    },
    {
     "data": {
      "text/html": [
       "<pre style=\"white-space:pre;overflow-x:auto;line-height:normal;font-family:Menlo,'DejaVu Sans Mono',consolas,'Courier New',monospace\">Setup via `SCVI.setup_anndata` with arguments:\n",
       "</pre>\n"
      ],
      "text/plain": [
       "Setup via `SCVI.setup_anndata` with arguments:\n"
      ]
     },
     "metadata": {},
     "output_type": "display_data"
    },
    {
     "data": {
      "text/html": [
       "<pre style=\"white-space:pre;overflow-x:auto;line-height:normal;font-family:Menlo,'DejaVu Sans Mono',consolas,'Courier New',monospace\"><span style=\"font-weight: bold\">{</span>\n",
       "<span style=\"color: #7fbf7f; text-decoration-color: #7fbf7f\">│   </span><span style=\"color: #008000; text-decoration-color: #008000\">'layer'</span>: <span style=\"color: #008000; text-decoration-color: #008000\">'raw_counts'</span>,\n",
       "<span style=\"color: #7fbf7f; text-decoration-color: #7fbf7f\">│   </span><span style=\"color: #008000; text-decoration-color: #008000\">'batch_key'</span>: <span style=\"color: #800080; text-decoration-color: #800080; font-style: italic\">None</span>,\n",
       "<span style=\"color: #7fbf7f; text-decoration-color: #7fbf7f\">│   </span><span style=\"color: #008000; text-decoration-color: #008000\">'labels_key'</span>: <span style=\"color: #800080; text-decoration-color: #800080; font-style: italic\">None</span>,\n",
       "<span style=\"color: #7fbf7f; text-decoration-color: #7fbf7f\">│   </span><span style=\"color: #008000; text-decoration-color: #008000\">'size_factor_key'</span>: <span style=\"color: #800080; text-decoration-color: #800080; font-style: italic\">None</span>,\n",
       "<span style=\"color: #7fbf7f; text-decoration-color: #7fbf7f\">│   </span><span style=\"color: #008000; text-decoration-color: #008000\">'categorical_covariate_keys'</span>: <span style=\"font-weight: bold\">[</span><span style=\"color: #008000; text-decoration-color: #008000\">'assigned_hashtag'</span><span style=\"font-weight: bold\">]</span>,\n",
       "<span style=\"color: #7fbf7f; text-decoration-color: #7fbf7f\">│   </span><span style=\"color: #008000; text-decoration-color: #008000\">'continuous_covariate_keys'</span>: <span style=\"color: #800080; text-decoration-color: #800080; font-style: italic\">None</span>\n",
       "<span style=\"font-weight: bold\">}</span>\n",
       "</pre>\n"
      ],
      "text/plain": [
       "\u001b[1m{\u001b[0m\n",
       "\u001b[2;32m│   \u001b[0m\u001b[32m'layer'\u001b[0m: \u001b[32m'raw_counts'\u001b[0m,\n",
       "\u001b[2;32m│   \u001b[0m\u001b[32m'batch_key'\u001b[0m: \u001b[3;35mNone\u001b[0m,\n",
       "\u001b[2;32m│   \u001b[0m\u001b[32m'labels_key'\u001b[0m: \u001b[3;35mNone\u001b[0m,\n",
       "\u001b[2;32m│   \u001b[0m\u001b[32m'size_factor_key'\u001b[0m: \u001b[3;35mNone\u001b[0m,\n",
       "\u001b[2;32m│   \u001b[0m\u001b[32m'categorical_covariate_keys'\u001b[0m: \u001b[1m[\u001b[0m\u001b[32m'assigned_hashtag'\u001b[0m\u001b[1m]\u001b[0m,\n",
       "\u001b[2;32m│   \u001b[0m\u001b[32m'continuous_covariate_keys'\u001b[0m: \u001b[3;35mNone\u001b[0m\n",
       "\u001b[1m}\u001b[0m\n"
      ]
     },
     "metadata": {},
     "output_type": "display_data"
    },
    {
     "data": {
      "text/html": [
       "<pre style=\"white-space:pre;overflow-x:auto;line-height:normal;font-family:Menlo,'DejaVu Sans Mono',consolas,'Courier New',monospace\">\n",
       "</pre>\n"
      ],
      "text/plain": [
       "\n"
      ]
     },
     "metadata": {},
     "output_type": "display_data"
    },
    {
     "data": {
      "text/html": [
       "<pre style=\"white-space:pre;overflow-x:auto;line-height:normal;font-family:Menlo,'DejaVu Sans Mono',consolas,'Courier New',monospace\"><span style=\"font-style: italic\">         Summary Statistics         </span>\n",
       "┏━━━━━━━━━━━━━━━━━━━━━━━━━━┳━━━━━━━┓\n",
       "┃<span style=\"font-weight: bold\">     Summary Stat Key     </span>┃<span style=\"font-weight: bold\"> Value </span>┃\n",
       "┡━━━━━━━━━━━━━━━━━━━━━━━━━━╇━━━━━━━┩\n",
       "│<span style=\"color: #0087ff; text-decoration-color: #0087ff\">         n_batch          </span>│<span style=\"color: #af00d7; text-decoration-color: #af00d7\">   1   </span>│\n",
       "│<span style=\"color: #0087ff; text-decoration-color: #0087ff\">         n_cells          </span>│<span style=\"color: #af00d7; text-decoration-color: #af00d7\"> 1474  </span>│\n",
       "│<span style=\"color: #0087ff; text-decoration-color: #0087ff\"> n_extra_categorical_covs </span>│<span style=\"color: #af00d7; text-decoration-color: #af00d7\">   1   </span>│\n",
       "│<span style=\"color: #0087ff; text-decoration-color: #0087ff\"> n_extra_continuous_covs  </span>│<span style=\"color: #af00d7; text-decoration-color: #af00d7\">   0   </span>│\n",
       "│<span style=\"color: #0087ff; text-decoration-color: #0087ff\">         n_labels         </span>│<span style=\"color: #af00d7; text-decoration-color: #af00d7\">   1   </span>│\n",
       "│<span style=\"color: #0087ff; text-decoration-color: #0087ff\">          n_vars          </span>│<span style=\"color: #af00d7; text-decoration-color: #af00d7\"> 8000  </span>│\n",
       "└──────────────────────────┴───────┘\n",
       "</pre>\n"
      ],
      "text/plain": [
       "\u001b[3m         Summary Statistics         \u001b[0m\n",
       "┏━━━━━━━━━━━━━━━━━━━━━━━━━━┳━━━━━━━┓\n",
       "┃\u001b[1m \u001b[0m\u001b[1m    Summary Stat Key    \u001b[0m\u001b[1m \u001b[0m┃\u001b[1m \u001b[0m\u001b[1mValue\u001b[0m\u001b[1m \u001b[0m┃\n",
       "┡━━━━━━━━━━━━━━━━━━━━━━━━━━╇━━━━━━━┩\n",
       "│\u001b[38;5;33m \u001b[0m\u001b[38;5;33m        n_batch         \u001b[0m\u001b[38;5;33m \u001b[0m│\u001b[38;5;128m \u001b[0m\u001b[38;5;128m  1  \u001b[0m\u001b[38;5;128m \u001b[0m│\n",
       "│\u001b[38;5;33m \u001b[0m\u001b[38;5;33m        n_cells         \u001b[0m\u001b[38;5;33m \u001b[0m│\u001b[38;5;128m \u001b[0m\u001b[38;5;128m1474 \u001b[0m\u001b[38;5;128m \u001b[0m│\n",
       "│\u001b[38;5;33m \u001b[0m\u001b[38;5;33mn_extra_categorical_covs\u001b[0m\u001b[38;5;33m \u001b[0m│\u001b[38;5;128m \u001b[0m\u001b[38;5;128m  1  \u001b[0m\u001b[38;5;128m \u001b[0m│\n",
       "│\u001b[38;5;33m \u001b[0m\u001b[38;5;33mn_extra_continuous_covs \u001b[0m\u001b[38;5;33m \u001b[0m│\u001b[38;5;128m \u001b[0m\u001b[38;5;128m  0  \u001b[0m\u001b[38;5;128m \u001b[0m│\n",
       "│\u001b[38;5;33m \u001b[0m\u001b[38;5;33m        n_labels        \u001b[0m\u001b[38;5;33m \u001b[0m│\u001b[38;5;128m \u001b[0m\u001b[38;5;128m  1  \u001b[0m\u001b[38;5;128m \u001b[0m│\n",
       "│\u001b[38;5;33m \u001b[0m\u001b[38;5;33m         n_vars         \u001b[0m\u001b[38;5;33m \u001b[0m│\u001b[38;5;128m \u001b[0m\u001b[38;5;128m8000 \u001b[0m\u001b[38;5;128m \u001b[0m│\n",
       "└──────────────────────────┴───────┘\n"
      ]
     },
     "metadata": {},
     "output_type": "display_data"
    },
    {
     "data": {
      "text/html": [
       "<pre style=\"white-space:pre;overflow-x:auto;line-height:normal;font-family:Menlo,'DejaVu Sans Mono',consolas,'Courier New',monospace\"><span style=\"font-style: italic\">                             Data Registry                             </span>\n",
       "┏━━━━━━━━━━━━━━━━━━━━━━━━┳━━━━━━━━━━━━━━━━━━━━━━━━━━━━━━━━━━━━━━━━━━━━┓\n",
       "┃<span style=\"font-weight: bold\">      Registry Key      </span>┃<span style=\"font-weight: bold\">            scvi-tools Location             </span>┃\n",
       "┡━━━━━━━━━━━━━━━━━━━━━━━━╇━━━━━━━━━━━━━━━━━━━━━━━━━━━━━━━━━━━━━━━━━━━━┩\n",
       "│<span style=\"color: #0087ff; text-decoration-color: #0087ff\">           X            </span>│<span style=\"color: #af00d7; text-decoration-color: #af00d7\">         adata.layers['raw_counts']         </span>│\n",
       "│<span style=\"color: #0087ff; text-decoration-color: #0087ff\">         batch          </span>│<span style=\"color: #af00d7; text-decoration-color: #af00d7\">          adata.obs['_scvi_batch']          </span>│\n",
       "│<span style=\"color: #0087ff; text-decoration-color: #0087ff\"> extra_categorical_covs </span>│<span style=\"color: #af00d7; text-decoration-color: #af00d7\"> adata.obsm['_scvi_extra_categorical_covs'] </span>│\n",
       "│<span style=\"color: #0087ff; text-decoration-color: #0087ff\">         labels         </span>│<span style=\"color: #af00d7; text-decoration-color: #af00d7\">         adata.obs['_scvi_labels']          </span>│\n",
       "└────────────────────────┴────────────────────────────────────────────┘\n",
       "</pre>\n"
      ],
      "text/plain": [
       "\u001b[3m                             Data Registry                             \u001b[0m\n",
       "┏━━━━━━━━━━━━━━━━━━━━━━━━┳━━━━━━━━━━━━━━━━━━━━━━━━━━━━━━━━━━━━━━━━━━━━┓\n",
       "┃\u001b[1m \u001b[0m\u001b[1m     Registry Key     \u001b[0m\u001b[1m \u001b[0m┃\u001b[1m \u001b[0m\u001b[1m           scvi-tools Location            \u001b[0m\u001b[1m \u001b[0m┃\n",
       "┡━━━━━━━━━━━━━━━━━━━━━━━━╇━━━━━━━━━━━━━━━━━━━━━━━━━━━━━━━━━━━━━━━━━━━━┩\n",
       "│\u001b[38;5;33m \u001b[0m\u001b[38;5;33m          X           \u001b[0m\u001b[38;5;33m \u001b[0m│\u001b[38;5;128m \u001b[0m\u001b[38;5;128m        adata.layers['raw_counts']        \u001b[0m\u001b[38;5;128m \u001b[0m│\n",
       "│\u001b[38;5;33m \u001b[0m\u001b[38;5;33m        batch         \u001b[0m\u001b[38;5;33m \u001b[0m│\u001b[38;5;128m \u001b[0m\u001b[38;5;128m         adata.obs['_scvi_batch']         \u001b[0m\u001b[38;5;128m \u001b[0m│\n",
       "│\u001b[38;5;33m \u001b[0m\u001b[38;5;33mextra_categorical_covs\u001b[0m\u001b[38;5;33m \u001b[0m│\u001b[38;5;128m \u001b[0m\u001b[38;5;128madata.obsm['_scvi_extra_categorical_covs']\u001b[0m\u001b[38;5;128m \u001b[0m│\n",
       "│\u001b[38;5;33m \u001b[0m\u001b[38;5;33m        labels        \u001b[0m\u001b[38;5;33m \u001b[0m│\u001b[38;5;128m \u001b[0m\u001b[38;5;128m        adata.obs['_scvi_labels']         \u001b[0m\u001b[38;5;128m \u001b[0m│\n",
       "└────────────────────────┴────────────────────────────────────────────┘\n"
      ]
     },
     "metadata": {},
     "output_type": "display_data"
    },
    {
     "data": {
      "text/html": [
       "<pre style=\"white-space:pre;overflow-x:auto;line-height:normal;font-family:Menlo,'DejaVu Sans Mono',consolas,'Courier New',monospace\"><span style=\"font-style: italic\">                     batch State Registry                      </span>\n",
       "┏━━━━━━━━━━━━━━━━━━━━━━━━━━┳━━━━━━━━━━━━┳━━━━━━━━━━━━━━━━━━━━━┓\n",
       "┃<span style=\"font-weight: bold\">     Source Location      </span>┃<span style=\"font-weight: bold\"> Categories </span>┃<span style=\"font-weight: bold\"> scvi-tools Encoding </span>┃\n",
       "┡━━━━━━━━━━━━━━━━━━━━━━━━━━╇━━━━━━━━━━━━╇━━━━━━━━━━━━━━━━━━━━━┩\n",
       "│<span style=\"color: #0087ff; text-decoration-color: #0087ff\"> adata.obs['_scvi_batch'] </span>│<span style=\"color: #008000; text-decoration-color: #008000\">     0      </span>│<span style=\"color: #af00d7; text-decoration-color: #af00d7\">          0          </span>│\n",
       "└──────────────────────────┴────────────┴─────────────────────┘\n",
       "</pre>\n"
      ],
      "text/plain": [
       "\u001b[3m                     batch State Registry                      \u001b[0m\n",
       "┏━━━━━━━━━━━━━━━━━━━━━━━━━━┳━━━━━━━━━━━━┳━━━━━━━━━━━━━━━━━━━━━┓\n",
       "┃\u001b[1m \u001b[0m\u001b[1m    Source Location     \u001b[0m\u001b[1m \u001b[0m┃\u001b[1m \u001b[0m\u001b[1mCategories\u001b[0m\u001b[1m \u001b[0m┃\u001b[1m \u001b[0m\u001b[1mscvi-tools Encoding\u001b[0m\u001b[1m \u001b[0m┃\n",
       "┡━━━━━━━━━━━━━━━━━━━━━━━━━━╇━━━━━━━━━━━━╇━━━━━━━━━━━━━━━━━━━━━┩\n",
       "│\u001b[38;5;33m \u001b[0m\u001b[38;5;33madata.obs['_scvi_batch']\u001b[0m\u001b[38;5;33m \u001b[0m│\u001b[32m \u001b[0m\u001b[32m    0     \u001b[0m\u001b[32m \u001b[0m│\u001b[38;5;128m \u001b[0m\u001b[38;5;128m         0         \u001b[0m\u001b[38;5;128m \u001b[0m│\n",
       "└──────────────────────────┴────────────┴─────────────────────┘\n"
      ]
     },
     "metadata": {},
     "output_type": "display_data"
    },
    {
     "data": {
      "text/html": [
       "<pre style=\"white-space:pre;overflow-x:auto;line-height:normal;font-family:Menlo,'DejaVu Sans Mono',consolas,'Courier New',monospace\"><span style=\"font-style: italic\">                     labels State Registry                      </span>\n",
       "┏━━━━━━━━━━━━━━━━━━━━━━━━━━━┳━━━━━━━━━━━━┳━━━━━━━━━━━━━━━━━━━━━┓\n",
       "┃<span style=\"font-weight: bold\">      Source Location      </span>┃<span style=\"font-weight: bold\"> Categories </span>┃<span style=\"font-weight: bold\"> scvi-tools Encoding </span>┃\n",
       "┡━━━━━━━━━━━━━━━━━━━━━━━━━━━╇━━━━━━━━━━━━╇━━━━━━━━━━━━━━━━━━━━━┩\n",
       "│<span style=\"color: #0087ff; text-decoration-color: #0087ff\"> adata.obs['_scvi_labels'] </span>│<span style=\"color: #008000; text-decoration-color: #008000\">     0      </span>│<span style=\"color: #af00d7; text-decoration-color: #af00d7\">          0          </span>│\n",
       "└───────────────────────────┴────────────┴─────────────────────┘\n",
       "</pre>\n"
      ],
      "text/plain": [
       "\u001b[3m                     labels State Registry                      \u001b[0m\n",
       "┏━━━━━━━━━━━━━━━━━━━━━━━━━━━┳━━━━━━━━━━━━┳━━━━━━━━━━━━━━━━━━━━━┓\n",
       "┃\u001b[1m \u001b[0m\u001b[1m     Source Location     \u001b[0m\u001b[1m \u001b[0m┃\u001b[1m \u001b[0m\u001b[1mCategories\u001b[0m\u001b[1m \u001b[0m┃\u001b[1m \u001b[0m\u001b[1mscvi-tools Encoding\u001b[0m\u001b[1m \u001b[0m┃\n",
       "┡━━━━━━━━━━━━━━━━━━━━━━━━━━━╇━━━━━━━━━━━━╇━━━━━━━━━━━━━━━━━━━━━┩\n",
       "│\u001b[38;5;33m \u001b[0m\u001b[38;5;33madata.obs['_scvi_labels']\u001b[0m\u001b[38;5;33m \u001b[0m│\u001b[32m \u001b[0m\u001b[32m    0     \u001b[0m\u001b[32m \u001b[0m│\u001b[38;5;128m \u001b[0m\u001b[38;5;128m         0         \u001b[0m\u001b[38;5;128m \u001b[0m│\n",
       "└───────────────────────────┴────────────┴─────────────────────┘\n"
      ]
     },
     "metadata": {},
     "output_type": "display_data"
    },
    {
     "data": {
      "text/html": [
       "<pre style=\"white-space:pre;overflow-x:auto;line-height:normal;font-family:Menlo,'DejaVu Sans Mono',consolas,'Courier New',monospace\"><span style=\"font-style: italic\">                  extra_categorical_covs State Registry                  </span>\n",
       "┏━━━━━━━━━━━━━━━━━━━━━━━━━━━━━━━┳━━━━━━━━━━━━━━━━━┳━━━━━━━━━━━━━━━━━━━━━┓\n",
       "┃<span style=\"font-weight: bold\">        Source Location        </span>┃<span style=\"font-weight: bold\">   Categories    </span>┃<span style=\"font-weight: bold\"> scvi-tools Encoding </span>┃\n",
       "┡━━━━━━━━━━━━━━━━━━━━━━━━━━━━━━━╇━━━━━━━━━━━━━━━━━╇━━━━━━━━━━━━━━━━━━━━━┩\n",
       "│<span style=\"color: #0087ff; text-decoration-color: #0087ff\"> adata.obs['assigned_hashtag'] </span>│<span style=\"color: #008000; text-decoration-color: #008000\"> noninf_MB_Hash5 </span>│<span style=\"color: #af00d7; text-decoration-color: #af00d7\">          0          </span>│\n",
       "│<span style=\"color: #0087ff; text-decoration-color: #0087ff\">                               </span>│<span style=\"color: #008000; text-decoration-color: #008000\"> noninf_MB_Hash7 </span>│<span style=\"color: #af00d7; text-decoration-color: #af00d7\">          1          </span>│\n",
       "│<span style=\"color: #0087ff; text-decoration-color: #0087ff\">                               </span>│<span style=\"color: #008000; text-decoration-color: #008000\">                 </span>│<span style=\"color: #af00d7; text-decoration-color: #af00d7\">                     </span>│\n",
       "└───────────────────────────────┴─────────────────┴─────────────────────┘\n",
       "</pre>\n"
      ],
      "text/plain": [
       "\u001b[3m                  extra_categorical_covs State Registry                  \u001b[0m\n",
       "┏━━━━━━━━━━━━━━━━━━━━━━━━━━━━━━━┳━━━━━━━━━━━━━━━━━┳━━━━━━━━━━━━━━━━━━━━━┓\n",
       "┃\u001b[1m \u001b[0m\u001b[1m       Source Location       \u001b[0m\u001b[1m \u001b[0m┃\u001b[1m \u001b[0m\u001b[1m  Categories   \u001b[0m\u001b[1m \u001b[0m┃\u001b[1m \u001b[0m\u001b[1mscvi-tools Encoding\u001b[0m\u001b[1m \u001b[0m┃\n",
       "┡━━━━━━━━━━━━━━━━━━━━━━━━━━━━━━━╇━━━━━━━━━━━━━━━━━╇━━━━━━━━━━━━━━━━━━━━━┩\n",
       "│\u001b[38;5;33m \u001b[0m\u001b[38;5;33madata.obs['assigned_hashtag']\u001b[0m\u001b[38;5;33m \u001b[0m│\u001b[32m \u001b[0m\u001b[32mnoninf_MB_Hash5\u001b[0m\u001b[32m \u001b[0m│\u001b[38;5;128m \u001b[0m\u001b[38;5;128m         0         \u001b[0m\u001b[38;5;128m \u001b[0m│\n",
       "│\u001b[38;5;33m \u001b[0m\u001b[38;5;33m                             \u001b[0m\u001b[38;5;33m \u001b[0m│\u001b[32m \u001b[0m\u001b[32mnoninf_MB_Hash7\u001b[0m\u001b[32m \u001b[0m│\u001b[38;5;128m \u001b[0m\u001b[38;5;128m         1         \u001b[0m\u001b[38;5;128m \u001b[0m│\n",
       "│\u001b[38;5;33m \u001b[0m\u001b[38;5;33m                             \u001b[0m\u001b[38;5;33m \u001b[0m│\u001b[32m \u001b[0m\u001b[32m               \u001b[0m\u001b[32m \u001b[0m│\u001b[38;5;128m \u001b[0m\u001b[38;5;128m                   \u001b[0m\u001b[38;5;128m \u001b[0m│\n",
       "└───────────────────────────────┴─────────────────┴─────────────────────┘\n"
      ]
     },
     "metadata": {},
     "output_type": "display_data"
    }
   ],
   "source": [
    "model_scvi.view_anndata_setup()"
   ]
  },
  {
   "cell_type": "markdown",
   "metadata": {},
   "source": [
    "## Training the model"
   ]
  },
  {
   "cell_type": "code",
   "execution_count": 16,
   "metadata": {},
   "outputs": [
    {
     "data": {
      "text/plain": [
       "np.int64(400)"
      ]
     },
     "execution_count": 16,
     "metadata": {},
     "output_type": "execute_result"
    }
   ],
   "source": [
    "max_epochs_scvi = np.min([round((20000 / adata.n_obs) * 400), 400])\n",
    "max_epochs_scvi"
   ]
  },
  {
   "cell_type": "code",
   "execution_count": 17,
   "metadata": {},
   "outputs": [
    {
     "name": "stderr",
     "output_type": "stream",
     "text": [
      "GPU available: False, used: False\n",
      "TPU available: False, using: 0 TPU cores\n",
      "HPU available: False, using: 0 HPUs\n",
      "SLURM auto-requeueing enabled. Setting signal handlers.\n",
      "/home/gruengroup/srivalli/miniconda3/envs/scanpy/lib/python3.13/site-packages/lightning/pytorch/trainer/connectors/data_connector.py:425: PossibleUserWarning: The 'train_dataloader' does not have many workers which may be a bottleneck. Consider increasing the value of the `num_workers` argument` to `num_workers=31` in the `DataLoader` to improve performance.\n",
      "/home/gruengroup/srivalli/miniconda3/envs/scanpy/lib/python3.13/site-packages/lightning/pytorch/trainer/connectors/data_connector.py:425: PossibleUserWarning: The 'val_dataloader' does not have many workers which may be a bottleneck. Consider increasing the value of the `num_workers` argument` to `num_workers=31` in the `DataLoader` to improve performance.\n"
     ]
    },
    {
     "data": {
      "application/vnd.jupyter.widget-view+json": {
       "model_id": "4eb780b359fa49baa4206c673734a31b",
       "version_major": 2,
       "version_minor": 0
      },
      "text/plain": [
       "Training:   0%|          | 0/200 [00:00<?, ?it/s]"
      ]
     },
     "metadata": {},
     "output_type": "display_data"
    },
    {
     "name": "stderr",
     "output_type": "stream",
     "text": [
      "\n",
      "Detected KeyboardInterrupt, attempting graceful shutdown ...\n"
     ]
    }
   ],
   "source": [
    "model_scvi.train(200, \n",
    "                 check_val_every_n_epoch = 1, \n",
    "                 enable_progress_bar = True\n",
    "                 )"
   ]
  },
  {
   "cell_type": "markdown",
   "metadata": {},
   "source": [
    "### Evaluate model performance by la Svensson"
   ]
  },
  {
   "cell_type": "code",
   "execution_count": null,
   "metadata": {},
   "outputs": [],
   "source": [
    "history_df = (\n",
    "    model_scvi.history['elbo_train'].astype(float)\n",
    "    .join(model_scvi.history['elbo_validation'].astype(float))\n",
    "    .reset_index()\n",
    "    .melt(id_vars = ['epoch'])\n",
    ")\n",
    "\n",
    "plot = (\n",
    "    p.ggplot(history_df.query('epoch > 0'), p.aes(x='epoch', y='value', color='variable'))\n",
    "    + p.geom_line()\n",
    "    + p.geom_point()\n",
    "    + p.scale_color_manual(values={'elbo_train': 'black', 'elbo_validation': 'red'})\n",
    "    + p.theme_minimal()\n",
    "    + p.theme(figure_size=(12, 6))\n",
    ")\n",
    "\n",
    "plot\n"
   ]
  },
  {
   "cell_type": "markdown",
   "metadata": {},
   "source": [
    "## Extracting the embedding"
   ]
  },
  {
   "cell_type": "code",
   "execution_count": 18,
   "metadata": {},
   "outputs": [],
   "source": [
    "adata.obsm[\"X_scVI\"] = model_scvi.get_latent_representation()"
   ]
  },
  {
   "cell_type": "markdown",
   "metadata": {},
   "source": [
    "## Calculate a batch-corrected UMAP"
   ]
  },
  {
   "cell_type": "code",
   "execution_count": null,
   "metadata": {},
   "outputs": [],
   "source": [
    "sc.pp.neighbors(adata, use_rep=\"X_scVI\")\n",
    "sc.tl.umap(adata)\n",
    "adata"
   ]
  },
  {
   "cell_type": "markdown",
   "metadata": {},
   "source": [
    "## Data Visualization"
   ]
  },
  {
   "cell_type": "code",
   "execution_count": null,
   "metadata": {},
   "outputs": [],
   "source": [
    "features = [\n",
    "    'Sex', 'Group', 'HTO_classification', 'assigned_hashtag',\n",
    "    'Nuclei Purification Method after Hashing', 'total_counts',\n",
    "    'n_genes_by_counts', 'pct_counts_mt', 'pct_counts_ribo', 'doublet_scores']\n",
    "\n",
    "sc.pl.umap(\n",
    "        adata,\n",
    "        color=features,\n",
    "        frameon=False,\n",
    "        layer='cpm_normalization',\n",
    "        cmap='RdYlBu_r',legend_loc='right margin' \n",
    "    )\n"
   ]
  },
  {
   "cell_type": "code",
   "execution_count": null,
   "metadata": {},
   "outputs": [],
   "source": [
    "sc.pl.umap(adata,color = ['Myh6','Dcn','Col1a1','Pecam1','Cdh5','Myh11','Acta2'],frameon= False, cmap = 'RdYlBu_r')"
   ]
  },
  {
   "cell_type": "markdown",
   "metadata": {},
   "source": [
    "### Leiden Clustering"
   ]
  },
  {
   "cell_type": "code",
   "execution_count": null,
   "metadata": {},
   "outputs": [],
   "source": [
    "sc.tl.leiden(adata, resolution=1, key_added=\"leiden_1\")"
   ]
  },
  {
   "cell_type": "code",
   "execution_count": null,
   "metadata": {},
   "outputs": [],
   "source": [
    "sc.tl.leiden(adata, resolution=0.1, key_added=\"leiden_0.1\")"
   ]
  },
  {
   "cell_type": "code",
   "execution_count": null,
   "metadata": {},
   "outputs": [],
   "source": [
    "sc.tl.leiden(adata, resolution=0.2, key_added=\"leiden_0.2\")"
   ]
  },
  {
   "cell_type": "code",
   "execution_count": null,
   "metadata": {},
   "outputs": [],
   "source": [
    "sc.tl.leiden(adata, resolution=0.3, key_added=\"leiden_0.3\")"
   ]
  },
  {
   "cell_type": "code",
   "execution_count": null,
   "metadata": {},
   "outputs": [],
   "source": [
    "sc.tl.leiden(adata, resolution=0.5, key_added=\"leiden_0.5\")"
   ]
  },
  {
   "cell_type": "code",
   "execution_count": null,
   "metadata": {},
   "outputs": [],
   "source": [
    "sc.pl.umap(adata, color=[\"leiden_0.1\",\"leiden_0.2\",\"leiden_0.3\",\"leiden_0.5\",\"leiden_1\"],frameon= False,legend_loc=\"on data\",)"
   ]
  },
  {
   "cell_type": "markdown",
   "metadata": {},
   "source": [
    "### Scoring Marker Genes"
   ]
  },
  {
   "cell_type": "code",
   "execution_count": 28,
   "metadata": {},
   "outputs": [],
   "source": [
    "marker_genes = {\n",
    "    'B cells': ['Cd19', 'Ly6d', 'Ptprc'],\n",
    "    'Cardiomyocytes (CM)': [\n",
    "        'Angpt1', 'Btk', 'MbNkx2-5Actc1Mdh2', 'Myh6', 'Myh7',\n",
    "        'Slit2', 'Slit3', 'Tnnt2', 'Ttn', 'Xirp2','Nppa','Nppb','Myh7'\n",
    "    ],\n",
    "    'Dendritic cells (DC)': [\n",
    "        'Ccr7', 'Cd209a', 'H2-Ab1', 'Ifitm1', 'Itgae', 'Itgax',\n",
    "        'Ly6c2SiglechCd8a', 'Mgl2', 'Ptprc'\n",
    "    ],\n",
    "    'Erythrocyte': ['Gypa'],\n",
    "    'Fibroblasts (FB)': [\n",
    "        'Ackr2', 'Actc2', 'Cd109', 'Cd302', 'Cd9', 'Ccl14', 'Ccl2', 'Cmah',\n",
    "        'Col11a1', 'Cxcl3', 'Dkk2', 'Dkk3', 'Duox1', 'Fgl2', 'Il1rap1',\n",
    "        'Isg15', 'Mki67', 'Msln', 'Nrxn1', 'Pdgfra', 'PdgfralowActc2',\n",
    "        'Pdgfrb', 'Postn', 'Saa3', 'Thbs4', 'Wif1','Actc2', 'Pdgfra', 'Ptprc'\n",
    "    ],\n",
    "    'ILC2': ['Bmp7', 'Cd13', 'Gata3', 'Il2ra', 'Il5', 'Il7r', 'Kit', 'Ptprc'],\n",
    "    'MAIT-like': [\n",
    "        'Cd3e', 'Il17a', 'Il23r', 'Kcnk1', 'Mmp25', 'Ptprc', 'Pxdc1', 'Rorc', 'Trac','Cd3e', 'Il17a', 'Il23r', 'Mmp25', 'Ptprc', 'Rorc', 'Trac'\n",
    "    ],\n",
    "    'Mast cells': ['Cma1', 'Cpa3', 'Kit', 'Ptprc'],\n",
    "    'Macrophages': [\n",
    "        'Cxcl13', 'Cxcl3', 'Fn1', 'Gpnmb', 'H2-Ab1', 'Il1b', 'Il10', 'Isg15',\n",
    "        'Itgam', 'Ly6c2', 'Lyve1', 'Ptprc', 'Retnla', 'Spp1', 'Timd4', 'Trem2'\n",
    "    ],\n",
    "    'Neutrophils': [\n",
    "        'Cxcl2', 'Il1b', 'Ly6g', 'Ptprc', 'S100a8', 'S100a9'\n",
    "    ],\n",
    "    'NK cells': [\n",
    "        'Camk1d', 'Cd3e', 'Cd44', 'Gzma', 'Klra5', 'Klra8', 'Ptprc', 'Xcr1'\n",
    "    ],\n",
    "    'Schwann cells': [\n",
    "        'Camk1d', 'Cd63', 'Cxcl10', 'Hexb', 'Ifi27l2a', 'Isg15', 'Lgals3',\n",
    "        'Mgp', 'Mt2', 'Pcna', 'Plp1', 'Prnp'\n",
    "    ],\n",
    "    'T cells': [\n",
    "        'Cd3e', 'Cd4', 'Cd8a', 'Cd44', 'Dusp10', 'Foxp3', 'H2-Ab1', 'Ifit1',\n",
    "        'Ifit3', 'Ifngr2', 'Il1r1', 'Il2ra', 'Isg15', 'Itgam', 'Itgav',\n",
    "        'Klrg1', 'Lamc1', 'Ptprc', 'Rorc', 'Sell', 'Trac', 'Trcg-C1',\n",
    "        'Trdc'\n",
    "    ],\n",
    "    'Endothelial cells': [\n",
    "        'Areg', 'Apq1', 'Camk1d', 'Ccl21a', 'Cdh13', 'Cdh5', 'Col4a1',\n",
    "        'Cxcl12', 'Fbln5', 'Fscn1', 'Hexb', 'H2-Ab1', 'Ift122', 'Ifit3',\n",
    "        'Isg15', 'Kit', 'Lyve1', 'Mgp', 'Mmrn1', 'Prnp', 'Rbp7', 'Sema3g',\n",
    "        'Tcf15', 'Timp4', 'Vcam1', 'Vwf', 'Wnt'\n",
    "    ],\n",
    "    'Vascular - Epicardial-derived cells': ['Msln', 'Mgp', 'Pdgfra', 'Pdgfrb'],\n",
    "    'Pericytes': [\n",
    "        'Acta2', 'Dkk2', 'Ifit3', 'Isg15', 'Kcnj8', 'Mgp', 'Msln', 'Pdgfra', 'Pdgfrb'\n",
    "    ],\n",
    "    'Smooth muscle cells (SMC)': [\n",
    "        'Acta2', 'Fos', 'Jun', 'Myh11', 'Ogn', 'Rgs5', 'Ryr2', 'S100a6', 'Slc38a11', 'Tcap'\n",
    "    ],\n",
    "    'Not annotated': []\n",
    "}"
   ]
  },
  {
   "cell_type": "code",
   "execution_count": 29,
   "metadata": {},
   "outputs": [],
   "source": [
    "marker_genes_in_data = {}\n",
    "for ct, markers in marker_genes.items():\n",
    "    markers_found = []\n",
    "    for marker in markers:\n",
    "        if marker in adata.var.index:\n",
    "            markers_found.append(marker)\n",
    "    marker_genes_in_data[ct] = markers_found"
   ]
  },
  {
   "cell_type": "code",
   "execution_count": null,
   "metadata": {},
   "outputs": [],
   "source": [
    "for cell_type, genes in marker_genes.items():\n",
    "    valid_genes = [g for g in genes if g in adata.var_names]\n",
    "    if len(valid_genes) >= 2:\n",
    "        sc.tl.score_genes(adata, gene_list=valid_genes, score_name=f\"{cell_type}_score\", use_raw=False)"
   ]
  },
  {
   "cell_type": "code",
   "execution_count": null,
   "metadata": {},
   "outputs": [],
   "source": [
    "score_cols = [f\"{ct}_score\" for ct in marker_genes.keys()]\n",
    "existing_scores = [col for col in score_cols if col in adata.obs.columns]\n",
    "sc.pl.umap(adata, color=existing_scores, cmap='RdYlBu_r', vmin=0, frameon= False)"
   ]
  },
  {
   "cell_type": "code",
   "execution_count": null,
   "metadata": {},
   "outputs": [],
   "source": [
    "cluster_means = (\n",
    "    adata.obs.groupby(\"leiden_1\")[existing_scores]\n",
    "    .mean()\n",
    ")"
   ]
  },
  {
   "cell_type": "code",
   "execution_count": 33,
   "metadata": {},
   "outputs": [],
   "source": [
    "top_scores = cluster_means.idxmax(axis=1).str.replace(\"_score\", \"\")"
   ]
  },
  {
   "cell_type": "code",
   "execution_count": 34,
   "metadata": {},
   "outputs": [],
   "source": [
    "adata.obs[\"celltype_marker_genes\"] = adata.obs[\"leiden_1\"].map(top_scores)"
   ]
  },
  {
   "cell_type": "code",
   "execution_count": null,
   "metadata": {},
   "outputs": [],
   "source": [
    "sc.pl.umap(adata, color = \"celltype_marker_genes\",frameon= False)"
   ]
  },
  {
   "cell_type": "markdown",
   "metadata": {},
   "source": [
    "## Differentially Expressed Genes based Annotation"
   ]
  },
  {
   "cell_type": "code",
   "execution_count": null,
   "metadata": {},
   "outputs": [],
   "source": [
    "sc.tl.rank_genes_groups(adata, groupby='leiden_1', method='wilcoxon')"
   ]
  },
  {
   "cell_type": "code",
   "execution_count": null,
   "metadata": {},
   "outputs": [],
   "source": [
    "sc.pl.rank_genes_groups_dotplot(adata,n_genes = 5)"
   ]
  },
  {
   "cell_type": "code",
   "execution_count": null,
   "metadata": {},
   "outputs": [],
   "source": [
    "sc.get.rank_genes_groups_df(adata, group=None).groupby(\"group\").head(10)"
   ]
  },
  {
   "cell_type": "code",
   "execution_count": 39,
   "metadata": {},
   "outputs": [],
   "source": [
    "marker_dfs = []\n",
    "\n",
    "for i in adata.obs['leiden_1'].cat.categories:\n",
    "    df = sc.get.rank_genes_groups_df(adata, group=i).head(10).copy()\n",
    "    df[\"cluster\"] = i  \n",
    "    marker_dfs.append(df)\n",
    "\n",
    "all_markers = pd.concat(marker_dfs)\n",
    "\n",
    "all_markers.to_csv(\"./data/top10_de_clean_noninf_scvi.csv\", index=False)"
   ]
  },
  {
   "cell_type": "code",
   "execution_count": 51,
   "metadata": {},
   "outputs": [],
   "source": [
    "cluster_annotations = {\n",
    "    \"0\":  \"Ventricular cardiomyocytes\",\n",
    "    \"1\":  \"Ventricular/atrial cardiomyocytes\",\n",
    "    \"2\":  \"Endothelial cells / Hematopoietic (immune) cells\",\n",
    "    \"3\":  \"Atrial cardiomyocytes\",\n",
    "    \"4\":  \"Conduction system cells\",\n",
    "    \"5\":  \"Fibroblasts / Stromal cells\",\n",
    "    \"6\":  \"Conduction system cells\",\n",
    "    \"7\":  \"Cardiac fibroblasts\",\n",
    "    \"8\":  \"Mitochondrial-rich or stressed cardiomyocytes\",\n",
    "    \"9\":  \"Uncharacterized/unknown\",\n",
    "    \"10\": \"Vascular endothelial cells\",\n",
    "    \"11\": \"Lymphocytes\",\n",
    "    \"12\": \"B-cells / Stromal\",\n",
    "    \"13\": \"Fibroblasts / Perivascular cells\",\n",
    "    \"14\": \"Pericytes / Vascular smooth muscle cells\",\n",
    "    \"15\": \"Stressed/natriuretic cardiomyocytes\"\n",
    "}\n",
    "\n",
    "adata.obs['celltype_de_genes'] = adata.obs['leiden_1'].map(cluster_annotations)"
   ]
  },
  {
   "cell_type": "code",
   "execution_count": null,
   "metadata": {},
   "outputs": [],
   "source": [
    "sc.pl.umap(adata, color='celltype_de_genes',frameon = False)"
   ]
  },
  {
   "cell_type": "markdown",
   "metadata": {},
   "source": [
    "# Comapring Annotation methods"
   ]
  },
  {
   "cell_type": "code",
   "execution_count": null,
   "metadata": {},
   "outputs": [],
   "source": [
    "pd.crosstab(adata.obs[\"celltype_de_genes\"], adata.obs[\"celltype_marker_genes\"])"
   ]
  },
  {
   "cell_type": "code",
   "execution_count": null,
   "metadata": {},
   "outputs": [],
   "source": [
    "sb.heatmap(\n",
    "    pd.crosstab(adata.obs[\"celltype_de_genes\"], adata.obs[\"celltype_marker_genes\"]),\n",
    "    annot=True,\n",
    "    fmt='d',\n",
    "    annot_kws={\"size\": 6}\n",
    ")"
   ]
  },
  {
   "cell_type": "code",
   "execution_count": 55,
   "metadata": {},
   "outputs": [],
   "source": [
    "def combine_annotations(de, score):\n",
    "    if de == score:\n",
    "        return de\n",
    "    elif score in [\"Cardiomyocyte\", \"Endothelial\", \"B cell\", \"T cell\", \"NK\", \"Fibroblast\"]:\n",
    "        return score + \" (scored)\"\n",
    "    else:\n",
    "        return de + \" (DE)\"\n",
    "\n",
    "adata.obs[\"final_annotation\"] = [\n",
    "    combine_annotations(de, score)\n",
    "    for de, score in zip(adata.obs[\"celltype_de_genes\"], adata.obs[\"celltype_marker_genes\"])\n",
    "]"
   ]
  },
  {
   "cell_type": "code",
   "execution_count": null,
   "metadata": {},
   "outputs": [],
   "source": [
    "sc.pl.umap(adata, color=\"final_annotation\", title=\"Final Cell Type Annotation\", frameon= False)"
   ]
  }
 ],
 "metadata": {
  "kernelspec": {
   "display_name": "scanpy",
   "language": "python",
   "name": "pyscenic"
  },
  "language_info": {
   "codemirror_mode": {
    "name": "ipython",
    "version": 3
   },
   "file_extension": ".py",
   "mimetype": "text/x-python",
   "name": "python",
   "nbconvert_exporter": "python",
   "pygments_lexer": "ipython3",
   "version": "3.13.0"
  }
 },
 "nbformat": 4,
 "nbformat_minor": 2
}
